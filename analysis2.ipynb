{
 "cells": [
  {
   "cell_type": "code",
   "execution_count": 35,
   "id": "82786bfc",
   "metadata": {},
   "outputs": [],
   "source": [
    "import pandas as pd\n",
    "import numpy as np\n",
    "import matplotlib.pyplot as plt\n",
    "import seaborn as sns\n",
    "from scipy import stats\n",
    "import statsmodels.api as sm"
   ]
  },
  {
   "cell_type": "code",
   "execution_count": 36,
   "id": "3f5fe372",
   "metadata": {},
   "outputs": [],
   "source": [
    "# Load datasets\n",
    "df1 = pd.read_csv('cleaned_dataset1.csv')\n",
    "df2 = pd.read_csv('cleaned_dataset2.csv')"
   ]
  },
  {
   "cell_type": "code",
   "execution_count": 37,
   "id": "2ab35e5b",
   "metadata": {},
   "outputs": [
    {
     "data": {
      "text/html": [
       "<div>\n",
       "<style scoped>\n",
       "    .dataframe tbody tr th:only-of-type {\n",
       "        vertical-align: middle;\n",
       "    }\n",
       "\n",
       "    .dataframe tbody tr th {\n",
       "        vertical-align: top;\n",
       "    }\n",
       "\n",
       "    .dataframe thead th {\n",
       "        text-align: right;\n",
       "    }\n",
       "</style>\n",
       "<table border=\"1\" class=\"dataframe\">\n",
       "  <thead>\n",
       "    <tr style=\"text-align: right;\">\n",
       "      <th></th>\n",
       "      <th>start_time</th>\n",
       "      <th>bat_landing_to_food</th>\n",
       "      <th>habit</th>\n",
       "      <th>rat_period_start</th>\n",
       "      <th>rat_period_end</th>\n",
       "      <th>seconds_after_rat_arrival</th>\n",
       "      <th>risk</th>\n",
       "      <th>reward</th>\n",
       "      <th>month</th>\n",
       "      <th>sunset_time</th>\n",
       "      <th>hours_after_sunset</th>\n",
       "      <th>season</th>\n",
       "      <th>calc_hours_after_sunset</th>\n",
       "      <th>time_valid</th>\n",
       "    </tr>\n",
       "  </thead>\n",
       "  <tbody>\n",
       "    <tr>\n",
       "      <th>0</th>\n",
       "      <td>2017-12-30 18:37:00</td>\n",
       "      <td>16.000000</td>\n",
       "      <td>rat</td>\n",
       "      <td>2017-12-30 18:35:00</td>\n",
       "      <td>2017-12-30 18:38:00</td>\n",
       "      <td>108</td>\n",
       "      <td>1</td>\n",
       "      <td>0</td>\n",
       "      <td>0</td>\n",
       "      <td>2017-12-30 16:45:00</td>\n",
       "      <td>1.87</td>\n",
       "      <td>0</td>\n",
       "      <td>1.87</td>\n",
       "      <td>True</td>\n",
       "    </tr>\n",
       "    <tr>\n",
       "      <th>1</th>\n",
       "      <td>2017-12-30 19:51:00</td>\n",
       "      <td>0.074016</td>\n",
       "      <td>fast</td>\n",
       "      <td>2017-12-30 19:50:00</td>\n",
       "      <td>2017-12-30 19:55:00</td>\n",
       "      <td>17</td>\n",
       "      <td>0</td>\n",
       "      <td>1</td>\n",
       "      <td>0</td>\n",
       "      <td>2017-12-30 16:45:00</td>\n",
       "      <td>3.10</td>\n",
       "      <td>0</td>\n",
       "      <td>3.10</td>\n",
       "      <td>True</td>\n",
       "    </tr>\n",
       "    <tr>\n",
       "      <th>2</th>\n",
       "      <td>2017-12-30 19:51:00</td>\n",
       "      <td>4.000000</td>\n",
       "      <td>fast</td>\n",
       "      <td>2017-12-30 19:50:00</td>\n",
       "      <td>2017-12-30 19:55:00</td>\n",
       "      <td>41</td>\n",
       "      <td>0</td>\n",
       "      <td>1</td>\n",
       "      <td>0</td>\n",
       "      <td>2017-12-30 16:45:00</td>\n",
       "      <td>3.11</td>\n",
       "      <td>0</td>\n",
       "      <td>3.10</td>\n",
       "      <td>True</td>\n",
       "    </tr>\n",
       "    <tr>\n",
       "      <th>3</th>\n",
       "      <td>2017-12-30 19:52:00</td>\n",
       "      <td>10.000000</td>\n",
       "      <td>rat</td>\n",
       "      <td>2017-12-30 19:50:00</td>\n",
       "      <td>2017-12-30 19:55:00</td>\n",
       "      <td>111</td>\n",
       "      <td>1</td>\n",
       "      <td>0</td>\n",
       "      <td>0</td>\n",
       "      <td>2017-12-30 16:45:00</td>\n",
       "      <td>3.13</td>\n",
       "      <td>0</td>\n",
       "      <td>3.12</td>\n",
       "      <td>True</td>\n",
       "    </tr>\n",
       "    <tr>\n",
       "      <th>4</th>\n",
       "      <td>2017-12-30 19:54:00</td>\n",
       "      <td>15.000000</td>\n",
       "      <td>rat</td>\n",
       "      <td>2017-12-30 19:50:00</td>\n",
       "      <td>2017-12-30 19:55:00</td>\n",
       "      <td>194</td>\n",
       "      <td>1</td>\n",
       "      <td>0</td>\n",
       "      <td>0</td>\n",
       "      <td>2017-12-30 16:45:00</td>\n",
       "      <td>3.15</td>\n",
       "      <td>0</td>\n",
       "      <td>3.15</td>\n",
       "      <td>True</td>\n",
       "    </tr>\n",
       "    <tr>\n",
       "      <th>...</th>\n",
       "      <td>...</td>\n",
       "      <td>...</td>\n",
       "      <td>...</td>\n",
       "      <td>...</td>\n",
       "      <td>...</td>\n",
       "      <td>...</td>\n",
       "      <td>...</td>\n",
       "      <td>...</td>\n",
       "      <td>...</td>\n",
       "      <td>...</td>\n",
       "      <td>...</td>\n",
       "      <td>...</td>\n",
       "      <td>...</td>\n",
       "      <td>...</td>\n",
       "    </tr>\n",
       "    <tr>\n",
       "      <th>600</th>\n",
       "      <td>2018-05-04 03:20:00</td>\n",
       "      <td>4.000000</td>\n",
       "      <td>rat</td>\n",
       "      <td>2018-05-04 03:20:00</td>\n",
       "      <td>2018-05-04 03:21:00</td>\n",
       "      <td>23</td>\n",
       "      <td>1</td>\n",
       "      <td>0</td>\n",
       "      <td>5</td>\n",
       "      <td>2018-05-03 19:22:00</td>\n",
       "      <td>7.98</td>\n",
       "      <td>1</td>\n",
       "      <td>7.97</td>\n",
       "      <td>True</td>\n",
       "    </tr>\n",
       "    <tr>\n",
       "      <th>601</th>\n",
       "      <td>2018-05-04 04:18:00</td>\n",
       "      <td>2.000000</td>\n",
       "      <td>rat</td>\n",
       "      <td>2018-05-04 04:14:00</td>\n",
       "      <td>2018-05-04 04:30:00</td>\n",
       "      <td>224</td>\n",
       "      <td>1</td>\n",
       "      <td>0</td>\n",
       "      <td>5</td>\n",
       "      <td>2018-05-03 19:22:00</td>\n",
       "      <td>8.93</td>\n",
       "      <td>1</td>\n",
       "      <td>8.93</td>\n",
       "      <td>True</td>\n",
       "    </tr>\n",
       "    <tr>\n",
       "      <th>602</th>\n",
       "      <td>2018-05-04 04:18:00</td>\n",
       "      <td>1.000000</td>\n",
       "      <td>fast</td>\n",
       "      <td>2018-05-04 04:14:00</td>\n",
       "      <td>2018-05-04 04:30:00</td>\n",
       "      <td>275</td>\n",
       "      <td>0</td>\n",
       "      <td>1</td>\n",
       "      <td>5</td>\n",
       "      <td>2018-05-03 19:22:00</td>\n",
       "      <td>8.95</td>\n",
       "      <td>1</td>\n",
       "      <td>8.93</td>\n",
       "      <td>True</td>\n",
       "    </tr>\n",
       "    <tr>\n",
       "      <th>603</th>\n",
       "      <td>2018-05-04 04:19:00</td>\n",
       "      <td>22.000000</td>\n",
       "      <td>pick</td>\n",
       "      <td>2018-05-04 04:14:00</td>\n",
       "      <td>2018-05-04 04:30:00</td>\n",
       "      <td>310</td>\n",
       "      <td>0</td>\n",
       "      <td>1</td>\n",
       "      <td>5</td>\n",
       "      <td>2018-05-03 19:22:00</td>\n",
       "      <td>8.96</td>\n",
       "      <td>1</td>\n",
       "      <td>8.95</td>\n",
       "      <td>True</td>\n",
       "    </tr>\n",
       "    <tr>\n",
       "      <th>604</th>\n",
       "      <td>2018-05-03 23:51:00</td>\n",
       "      <td>2.000000</td>\n",
       "      <td>fast</td>\n",
       "      <td>2018-05-03 23:46:00</td>\n",
       "      <td>2018-05-03 23:52:00</td>\n",
       "      <td>339</td>\n",
       "      <td>0</td>\n",
       "      <td>1</td>\n",
       "      <td>5</td>\n",
       "      <td>2018-05-03 19:22:00</td>\n",
       "      <td>4.50</td>\n",
       "      <td>1</td>\n",
       "      <td>4.48</td>\n",
       "      <td>True</td>\n",
       "    </tr>\n",
       "  </tbody>\n",
       "</table>\n",
       "<p>605 rows × 14 columns</p>\n",
       "</div>"
      ],
      "text/plain": [
       "              start_time  bat_landing_to_food habit     rat_period_start  \\\n",
       "0    2017-12-30 18:37:00            16.000000   rat  2017-12-30 18:35:00   \n",
       "1    2017-12-30 19:51:00             0.074016  fast  2017-12-30 19:50:00   \n",
       "2    2017-12-30 19:51:00             4.000000  fast  2017-12-30 19:50:00   \n",
       "3    2017-12-30 19:52:00            10.000000   rat  2017-12-30 19:50:00   \n",
       "4    2017-12-30 19:54:00            15.000000   rat  2017-12-30 19:50:00   \n",
       "..                   ...                  ...   ...                  ...   \n",
       "600  2018-05-04 03:20:00             4.000000   rat  2018-05-04 03:20:00   \n",
       "601  2018-05-04 04:18:00             2.000000   rat  2018-05-04 04:14:00   \n",
       "602  2018-05-04 04:18:00             1.000000  fast  2018-05-04 04:14:00   \n",
       "603  2018-05-04 04:19:00            22.000000  pick  2018-05-04 04:14:00   \n",
       "604  2018-05-03 23:51:00             2.000000  fast  2018-05-03 23:46:00   \n",
       "\n",
       "          rat_period_end  seconds_after_rat_arrival  risk  reward  month  \\\n",
       "0    2017-12-30 18:38:00                        108     1       0      0   \n",
       "1    2017-12-30 19:55:00                         17     0       1      0   \n",
       "2    2017-12-30 19:55:00                         41     0       1      0   \n",
       "3    2017-12-30 19:55:00                        111     1       0      0   \n",
       "4    2017-12-30 19:55:00                        194     1       0      0   \n",
       "..                   ...                        ...   ...     ...    ...   \n",
       "600  2018-05-04 03:21:00                         23     1       0      5   \n",
       "601  2018-05-04 04:30:00                        224     1       0      5   \n",
       "602  2018-05-04 04:30:00                        275     0       1      5   \n",
       "603  2018-05-04 04:30:00                        310     0       1      5   \n",
       "604  2018-05-03 23:52:00                        339     0       1      5   \n",
       "\n",
       "             sunset_time  hours_after_sunset  season  calc_hours_after_sunset  \\\n",
       "0    2017-12-30 16:45:00                1.87       0                     1.87   \n",
       "1    2017-12-30 16:45:00                3.10       0                     3.10   \n",
       "2    2017-12-30 16:45:00                3.11       0                     3.10   \n",
       "3    2017-12-30 16:45:00                3.13       0                     3.12   \n",
       "4    2017-12-30 16:45:00                3.15       0                     3.15   \n",
       "..                   ...                 ...     ...                      ...   \n",
       "600  2018-05-03 19:22:00                7.98       1                     7.97   \n",
       "601  2018-05-03 19:22:00                8.93       1                     8.93   \n",
       "602  2018-05-03 19:22:00                8.95       1                     8.93   \n",
       "603  2018-05-03 19:22:00                8.96       1                     8.95   \n",
       "604  2018-05-03 19:22:00                4.50       1                     4.48   \n",
       "\n",
       "     time_valid  \n",
       "0          True  \n",
       "1          True  \n",
       "2          True  \n",
       "3          True  \n",
       "4          True  \n",
       "..          ...  \n",
       "600        True  \n",
       "601        True  \n",
       "602        True  \n",
       "603        True  \n",
       "604        True  \n",
       "\n",
       "[605 rows x 14 columns]"
      ]
     },
     "execution_count": 37,
     "metadata": {},
     "output_type": "execute_result"
    }
   ],
   "source": [
    "df1 # Display df1"
   ]
  },
  {
   "cell_type": "code",
   "execution_count": 38,
   "id": "22f059b4",
   "metadata": {},
   "outputs": [
    {
     "data": {
      "text/html": [
       "<div>\n",
       "<style scoped>\n",
       "    .dataframe tbody tr th:only-of-type {\n",
       "        vertical-align: middle;\n",
       "    }\n",
       "\n",
       "    .dataframe tbody tr th {\n",
       "        vertical-align: top;\n",
       "    }\n",
       "\n",
       "    .dataframe thead th {\n",
       "        text-align: right;\n",
       "    }\n",
       "</style>\n",
       "<table border=\"1\" class=\"dataframe\">\n",
       "  <thead>\n",
       "    <tr style=\"text-align: right;\">\n",
       "      <th></th>\n",
       "      <th>time</th>\n",
       "      <th>month</th>\n",
       "      <th>hours_after_sunset</th>\n",
       "      <th>bat_landing_number</th>\n",
       "      <th>food_availability</th>\n",
       "      <th>rat_minutes</th>\n",
       "      <th>rat_arrival_number</th>\n",
       "      <th>rat_present</th>\n",
       "    </tr>\n",
       "  </thead>\n",
       "  <tbody>\n",
       "    <tr>\n",
       "      <th>0</th>\n",
       "      <td>2017-12-26 16:43:00</td>\n",
       "      <td>0</td>\n",
       "      <td>0.0</td>\n",
       "      <td>28</td>\n",
       "      <td>4.000000</td>\n",
       "      <td>0.0</td>\n",
       "      <td>0</td>\n",
       "      <td>0</td>\n",
       "    </tr>\n",
       "    <tr>\n",
       "      <th>1</th>\n",
       "      <td>2017-12-26 17:13:00</td>\n",
       "      <td>0</td>\n",
       "      <td>0.5</td>\n",
       "      <td>25</td>\n",
       "      <td>4.000000</td>\n",
       "      <td>0.0</td>\n",
       "      <td>0</td>\n",
       "      <td>0</td>\n",
       "    </tr>\n",
       "    <tr>\n",
       "      <th>2</th>\n",
       "      <td>2017-12-26 17:43:00</td>\n",
       "      <td>0</td>\n",
       "      <td>1.0</td>\n",
       "      <td>71</td>\n",
       "      <td>4.000000</td>\n",
       "      <td>0.0</td>\n",
       "      <td>0</td>\n",
       "      <td>0</td>\n",
       "    </tr>\n",
       "    <tr>\n",
       "      <th>3</th>\n",
       "      <td>2017-12-26 18:13:00</td>\n",
       "      <td>0</td>\n",
       "      <td>1.5</td>\n",
       "      <td>44</td>\n",
       "      <td>3.753857</td>\n",
       "      <td>0.0</td>\n",
       "      <td>0</td>\n",
       "      <td>0</td>\n",
       "    </tr>\n",
       "    <tr>\n",
       "      <th>4</th>\n",
       "      <td>2017-12-26 18:43:00</td>\n",
       "      <td>0</td>\n",
       "      <td>2.0</td>\n",
       "      <td>44</td>\n",
       "      <td>3.147265</td>\n",
       "      <td>0.0</td>\n",
       "      <td>0</td>\n",
       "      <td>0</td>\n",
       "    </tr>\n",
       "    <tr>\n",
       "      <th>...</th>\n",
       "      <td>...</td>\n",
       "      <td>...</td>\n",
       "      <td>...</td>\n",
       "      <td>...</td>\n",
       "      <td>...</td>\n",
       "      <td>...</td>\n",
       "      <td>...</td>\n",
       "      <td>...</td>\n",
       "    </tr>\n",
       "    <tr>\n",
       "      <th>1906</th>\n",
       "      <td>2018-06-01 03:41:00</td>\n",
       "      <td>6</td>\n",
       "      <td>8.0</td>\n",
       "      <td>20</td>\n",
       "      <td>1.000000</td>\n",
       "      <td>0.0</td>\n",
       "      <td>0</td>\n",
       "      <td>0</td>\n",
       "    </tr>\n",
       "    <tr>\n",
       "      <th>1907</th>\n",
       "      <td>2018-06-01 04:11:00</td>\n",
       "      <td>6</td>\n",
       "      <td>8.5</td>\n",
       "      <td>7</td>\n",
       "      <td>1.000000</td>\n",
       "      <td>0.0</td>\n",
       "      <td>0</td>\n",
       "      <td>0</td>\n",
       "    </tr>\n",
       "    <tr>\n",
       "      <th>1908</th>\n",
       "      <td>2018-06-01 04:41:00</td>\n",
       "      <td>6</td>\n",
       "      <td>9.0</td>\n",
       "      <td>6</td>\n",
       "      <td>1.000000</td>\n",
       "      <td>0.0</td>\n",
       "      <td>0</td>\n",
       "      <td>0</td>\n",
       "    </tr>\n",
       "    <tr>\n",
       "      <th>1909</th>\n",
       "      <td>2018-06-01 05:11:00</td>\n",
       "      <td>6</td>\n",
       "      <td>9.5</td>\n",
       "      <td>7</td>\n",
       "      <td>1.000000</td>\n",
       "      <td>0.0</td>\n",
       "      <td>0</td>\n",
       "      <td>0</td>\n",
       "    </tr>\n",
       "    <tr>\n",
       "      <th>1910</th>\n",
       "      <td>2018-06-01 05:41:00</td>\n",
       "      <td>6</td>\n",
       "      <td>10.0</td>\n",
       "      <td>2</td>\n",
       "      <td>1.000000</td>\n",
       "      <td>0.0</td>\n",
       "      <td>0</td>\n",
       "      <td>0</td>\n",
       "    </tr>\n",
       "  </tbody>\n",
       "</table>\n",
       "<p>1911 rows × 8 columns</p>\n",
       "</div>"
      ],
      "text/plain": [
       "                     time  month  hours_after_sunset  bat_landing_number  \\\n",
       "0     2017-12-26 16:43:00      0                 0.0                  28   \n",
       "1     2017-12-26 17:13:00      0                 0.5                  25   \n",
       "2     2017-12-26 17:43:00      0                 1.0                  71   \n",
       "3     2017-12-26 18:13:00      0                 1.5                  44   \n",
       "4     2017-12-26 18:43:00      0                 2.0                  44   \n",
       "...                   ...    ...                 ...                 ...   \n",
       "1906  2018-06-01 03:41:00      6                 8.0                  20   \n",
       "1907  2018-06-01 04:11:00      6                 8.5                   7   \n",
       "1908  2018-06-01 04:41:00      6                 9.0                   6   \n",
       "1909  2018-06-01 05:11:00      6                 9.5                   7   \n",
       "1910  2018-06-01 05:41:00      6                10.0                   2   \n",
       "\n",
       "      food_availability  rat_minutes  rat_arrival_number  rat_present  \n",
       "0              4.000000          0.0                   0            0  \n",
       "1              4.000000          0.0                   0            0  \n",
       "2              4.000000          0.0                   0            0  \n",
       "3              3.753857          0.0                   0            0  \n",
       "4              3.147265          0.0                   0            0  \n",
       "...                 ...          ...                 ...          ...  \n",
       "1906           1.000000          0.0                   0            0  \n",
       "1907           1.000000          0.0                   0            0  \n",
       "1908           1.000000          0.0                   0            0  \n",
       "1909           1.000000          0.0                   0            0  \n",
       "1910           1.000000          0.0                   0            0  \n",
       "\n",
       "[1911 rows x 8 columns]"
      ]
     },
     "execution_count": 38,
     "metadata": {},
     "output_type": "execute_result"
    }
   ],
   "source": [
    "df2 # Display df2"
   ]
  },
  {
   "cell_type": "code",
   "execution_count": 39,
   "id": "be9f5c9b",
   "metadata": {},
   "outputs": [
    {
     "name": "stdout",
     "output_type": "stream",
     "text": [
      "<class 'pandas.core.frame.DataFrame'>\n",
      "RangeIndex: 605 entries, 0 to 604\n",
      "Data columns (total 14 columns):\n",
      " #   Column                     Non-Null Count  Dtype  \n",
      "---  ------                     --------------  -----  \n",
      " 0   start_time                 605 non-null    object \n",
      " 1   bat_landing_to_food        605 non-null    float64\n",
      " 2   habit                      605 non-null    object \n",
      " 3   rat_period_start           605 non-null    object \n",
      " 4   rat_period_end             605 non-null    object \n",
      " 5   seconds_after_rat_arrival  605 non-null    int64  \n",
      " 6   risk                       605 non-null    int64  \n",
      " 7   reward                     605 non-null    int64  \n",
      " 8   month                      605 non-null    int64  \n",
      " 9   sunset_time                605 non-null    object \n",
      " 10  hours_after_sunset         605 non-null    float64\n",
      " 11  season                     605 non-null    int64  \n",
      " 12  calc_hours_after_sunset    605 non-null    float64\n",
      " 13  time_valid                 605 non-null    bool   \n",
      "dtypes: bool(1), float64(3), int64(5), object(5)\n",
      "memory usage: 62.2+ KB\n"
     ]
    }
   ],
   "source": [
    "df1.info() # Print the summary of df1"
   ]
  },
  {
   "cell_type": "code",
   "execution_count": 40,
   "id": "5b15bd7f",
   "metadata": {},
   "outputs": [
    {
     "name": "stdout",
     "output_type": "stream",
     "text": [
      "<class 'pandas.core.frame.DataFrame'>\n",
      "RangeIndex: 1911 entries, 0 to 1910\n",
      "Data columns (total 8 columns):\n",
      " #   Column              Non-Null Count  Dtype  \n",
      "---  ------              --------------  -----  \n",
      " 0   time                1911 non-null   object \n",
      " 1   month               1911 non-null   int64  \n",
      " 2   hours_after_sunset  1911 non-null   float64\n",
      " 3   bat_landing_number  1911 non-null   int64  \n",
      " 4   food_availability   1911 non-null   float64\n",
      " 5   rat_minutes         1911 non-null   float64\n",
      " 6   rat_arrival_number  1911 non-null   int64  \n",
      " 7   rat_present         1911 non-null   int64  \n",
      "dtypes: float64(3), int64(4), object(1)\n",
      "memory usage: 119.6+ KB\n"
     ]
    }
   ],
   "source": [
    "df2.info() # Print the summary of df2"
   ]
  },
  {
   "cell_type": "code",
   "execution_count": 41,
   "id": "b5e9569d",
   "metadata": {},
   "outputs": [
    {
     "data": {
      "text/plain": [
       "start_time                   0\n",
       "bat_landing_to_food          0\n",
       "habit                        0\n",
       "rat_period_start             0\n",
       "rat_period_end               0\n",
       "seconds_after_rat_arrival    0\n",
       "risk                         0\n",
       "reward                       0\n",
       "month                        0\n",
       "sunset_time                  0\n",
       "hours_after_sunset           0\n",
       "season                       0\n",
       "calc_hours_after_sunset      0\n",
       "time_valid                   0\n",
       "dtype: int64"
      ]
     },
     "execution_count": 41,
     "metadata": {},
     "output_type": "execute_result"
    }
   ],
   "source": [
    "df1.isnull().sum() # Count missing values in each column of df1"
   ]
  },
  {
   "cell_type": "code",
   "execution_count": 42,
   "id": "cc054d34",
   "metadata": {},
   "outputs": [
    {
     "data": {
      "text/plain": [
       "time                  0\n",
       "month                 0\n",
       "hours_after_sunset    0\n",
       "bat_landing_number    0\n",
       "food_availability     0\n",
       "rat_minutes           0\n",
       "rat_arrival_number    0\n",
       "rat_present           0\n",
       "dtype: int64"
      ]
     },
     "execution_count": 42,
     "metadata": {},
     "output_type": "execute_result"
    }
   ],
   "source": [
    "df2.isnull().sum() # Count missing values in each column of df2"
   ]
  },
  {
   "cell_type": "code",
   "execution_count": 43,
   "id": "7db7e2a4",
   "metadata": {},
   "outputs": [
    {
     "name": "stdout",
     "output_type": "stream",
     "text": [
      "<class 'pandas.core.frame.DataFrame'>\n",
      "RangeIndex: 605 entries, 0 to 604\n",
      "Data columns (total 14 columns):\n",
      " #   Column                     Non-Null Count  Dtype         \n",
      "---  ------                     --------------  -----         \n",
      " 0   start_time                 605 non-null    datetime64[ns]\n",
      " 1   bat_landing_to_food        605 non-null    float64       \n",
      " 2   habit                      605 non-null    object        \n",
      " 3   rat_period_start           605 non-null    datetime64[ns]\n",
      " 4   rat_period_end             605 non-null    datetime64[ns]\n",
      " 5   seconds_after_rat_arrival  605 non-null    int64         \n",
      " 6   risk                       605 non-null    int64         \n",
      " 7   reward                     605 non-null    int64         \n",
      " 8   month                      605 non-null    int64         \n",
      " 9   sunset_time                605 non-null    datetime64[ns]\n",
      " 10  hours_after_sunset         605 non-null    float64       \n",
      " 11  season                     605 non-null    int64         \n",
      " 12  calc_hours_after_sunset    605 non-null    float64       \n",
      " 13  time_valid                 605 non-null    bool          \n",
      "dtypes: bool(1), datetime64[ns](4), float64(3), int64(5), object(1)\n",
      "memory usage: 62.2+ KB\n"
     ]
    }
   ],
   "source": [
    "# Convert time-related columns to datetime format of df1\n",
    "df1['start_time'] = pd.to_datetime(df1['start_time'])\n",
    "df1['rat_period_start'] = pd.to_datetime(df1['rat_period_start'])\n",
    "df1['rat_period_end'] = pd.to_datetime(df1['rat_period_end'])\n",
    "df1['sunset_time'] = pd.to_datetime(df1['sunset_time'])\n",
    "# Convert numeric columns to proper number format of df1\n",
    "df1['bat_landing_to_food'] = pd.to_numeric(df1['bat_landing_to_food'])\n",
    "df1['seconds_after_rat_arrival'] = pd.to_numeric(df1['seconds_after_rat_arrival'])\n",
    "df1['hours_after_sunset'] = pd.to_numeric(df1['hours_after_sunset'])\n",
    "df1.info()"
   ]
  },
  {
   "cell_type": "code",
   "execution_count": 44,
   "id": "f5913f43",
   "metadata": {},
   "outputs": [
    {
     "name": "stdout",
     "output_type": "stream",
     "text": [
      "<class 'pandas.core.frame.DataFrame'>\n",
      "RangeIndex: 1911 entries, 0 to 1910\n",
      "Data columns (total 8 columns):\n",
      " #   Column              Non-Null Count  Dtype         \n",
      "---  ------              --------------  -----         \n",
      " 0   time                1911 non-null   datetime64[ns]\n",
      " 1   month               1911 non-null   int64         \n",
      " 2   hours_after_sunset  1911 non-null   float64       \n",
      " 3   bat_landing_number  1911 non-null   int64         \n",
      " 4   food_availability   1911 non-null   float64       \n",
      " 5   rat_minutes         1911 non-null   float64       \n",
      " 6   rat_arrival_number  1911 non-null   int64         \n",
      " 7   rat_present         1911 non-null   int64         \n",
      "dtypes: datetime64[ns](1), float64(3), int64(4)\n",
      "memory usage: 119.6 KB\n"
     ]
    }
   ],
   "source": [
    "# Convert time-related columns to datetime format of df2.\n",
    "df2['time'] = pd.to_datetime(df2['time'])\n",
    "df2.info()"
   ]
  },
  {
   "cell_type": "code",
   "execution_count": 45,
   "id": "f91c6913",
   "metadata": {},
   "outputs": [
    {
     "data": {
      "text/plain": [
       "np.int64(0)"
      ]
     },
     "execution_count": 45,
     "metadata": {},
     "output_type": "execute_result"
    }
   ],
   "source": [
    "# Count duplicate rows from df1\n",
    "df1.duplicated().sum() "
   ]
  },
  {
   "cell_type": "code",
   "execution_count": 46,
   "id": "ba4f6bd1",
   "metadata": {},
   "outputs": [
    {
     "data": {
      "text/plain": [
       "np.int64(0)"
      ]
     },
     "execution_count": 46,
     "metadata": {},
     "output_type": "execute_result"
    }
   ],
   "source": [
    "# Count duplicate rows from df2\n",
    "df2.duplicated().sum()"
   ]
  },
  {
   "cell_type": "code",
   "execution_count": null,
   "id": "b01c1369",
   "metadata": {},
   "outputs": [],
   "source": [
    "# ========== INVESTIGATION B (Seasonal Analysis) ==========\n"
   ]
  },
  {
   "cell_type": "code",
   "execution_count": null,
   "id": "1daa215e",
   "metadata": {},
   "outputs": [],
   "source": [
    "# Part1: Bat Behaviour Across Seasons"
   ]
  },
  {
   "cell_type": "code",
   "execution_count": 17,
   "id": "9967502a",
   "metadata": {},
   "outputs": [],
   "source": [
    "import pandas as pd\n",
    "import numpy as np\n",
    "import matplotlib.pyplot as plt\n",
    "from scipy import stats\n"
   ]
  },
  {
   "cell_type": "code",
   "execution_count": null,
   "id": "470d9907",
   "metadata": {},
   "outputs": [],
   "source": [
    "# Load dataset1 \n",
    "d1 = pd.read_csv(\"dataset1.csv\")\n"
   ]
  },
  {
   "cell_type": "code",
   "execution_count": 19,
   "id": "21944e8c",
   "metadata": {},
   "outputs": [
    {
     "name": "stderr",
     "output_type": "stream",
     "text": [
      "C:\\Users\\Dell\\AppData\\Local\\Temp\\ipykernel_11480\\1258295284.py:2: UserWarning: Parsing dates in %d/%m/%Y %H:%M format when dayfirst=False (the default) was specified. Pass `dayfirst=True` or specify a format to silence this warning.\n",
      "  d1['start_time'] = pd.to_datetime(d1['start_time'], errors='coerce')\n"
     ]
    }
   ],
   "source": [
    "# Convert start_time to datetime and extract month (dataset1)\n",
    "d1['start_time'] = pd.to_datetime(d1['start_time'], errors='coerce')\n",
    "d1['real_month'] = d1['start_time'].dt.month\n",
    "\n",
    "\n"
   ]
  },
  {
   "cell_type": "code",
   "execution_count": 20,
   "id": "39b345af",
   "metadata": {},
   "outputs": [
    {
     "name": "stdout",
     "output_type": "stream",
     "text": [
      "Unique months in dataset1: [12  1  2  3  4  5]\n"
     ]
    }
   ],
   "source": [
    "# Checking which months are present\n",
    "print(\"Unique months in dataset1:\", d1['real_month'].unique())"
   ]
  },
  {
   "cell_type": "code",
   "execution_count": 34,
   "id": "efc9c4ab",
   "metadata": {},
   "outputs": [
    {
     "data": {
      "image/png": "[encoded data removed]",
      "text/plain": [
       "<Figure size 640x480 with 1 Axes>"
      ]
     },
     "metadata": {},
     "output_type": "display_data"
    }
   ],
   "source": [
    "# Visualise month distribution\n",
    "d1['real_month'].value_counts().sort_index().plot(kind='bar')\n",
    "plt.title(\"Number of Bat Events per Month\")\n",
    "plt.xlabel(\"Month (1=Jan, 12=Dec)\")\n",
    "plt.ylabel(\"Count of Bat Events\")\n",
    "plt.show()"
   ]
  },
  {
   "cell_type": "markdown",
   "id": "c28c2e41",
   "metadata": {},
   "source": [
    "Conclusion:\n",
    "After extracting the actual month from the start_time column in dataset1,all bat landing events were found to occur in December 2017. December falls in the summer season in the study location. No observations were recorded in winter or spring. Therefore, it is not possible to compare bat behaviour across different seasons because the dataset only contains data from one season.This is a limitation of the data and should be considered when interpreting the results."
   ]
  },
  {
   "cell_type": "code",
   "execution_count": null,
   "id": "2f2be632",
   "metadata": {},
   "outputs": [],
   "source": [
    "#Part2: Rat Activity Accross Seasons"
   ]
  },
  {
   "cell_type": "code",
   "execution_count": 22,
   "id": "3f1e12e3",
   "metadata": {},
   "outputs": [],
   "source": [
    "import pandas as pd\n",
    "import numpy as np\n",
    "import matplotlib.pyplot as plt\n",
    "from scipy import stats"
   ]
  },
  {
   "cell_type": "code",
   "execution_count": null,
   "id": "3d7376af",
   "metadata": {},
   "outputs": [],
   "source": [
    "# Load dataset2\n",
    "d2 = pd.read_csv(\"dataset2.csv\")"
   ]
  },
  {
   "cell_type": "code",
   "execution_count": null,
   "id": "a6bfdf9d",
   "metadata": {},
   "outputs": [
    {
     "name": "stderr",
     "output_type": "stream",
     "text": [
      "C:\\Users\\Dell\\AppData\\Local\\Temp\\ipykernel_11480\\342118752.py:2: UserWarning: Parsing dates in %d/%m/%Y %H:%M format when dayfirst=False (the default) was specified. Pass `dayfirst=True` or specify a format to silence this warning.\n",
      "  d2['time'] = pd.to_datetime(d2['time'], errors='coerce')\n"
     ]
    }
   ],
   "source": [
    "# Change time column to datetime\n",
    "d2['time'] = pd.to_datetime(d2['time'], errors='coerce')"
   ]
  },
  {
   "cell_type": "code",
   "execution_count": 25,
   "id": "78384ff4",
   "metadata": {},
   "outputs": [],
   "source": [
    "\n",
    "# Get month number from time\n",
    "d2['real_month'] = d2['time'].dt.month"
   ]
  },
  {
   "cell_type": "code",
   "execution_count": null,
   "id": "354c097f",
   "metadata": {},
   "outputs": [
    {
     "name": "stdout",
     "output_type": "stream",
     "text": [
      "[12  1  2  3  4  5  6]\n"
     ]
    }
   ],
   "source": [
    "# Check which months appear\n",
    "print(d2['real_month'].unique())"
   ]
  },
  {
   "cell_type": "code",
   "execution_count": 27,
   "id": "e33ac511",
   "metadata": {},
   "outputs": [
    {
     "name": "stdout",
     "output_type": "stream",
     "text": [
      "season\n",
      "summer    880\n",
      "winter     12\n",
      "Name: count, dtype: int64\n"
     ]
    }
   ],
   "source": [
    "# make season from month\n",
    "def month_to_season(m):\n",
    "    if m in [12, 1, 2]:\n",
    "        return \"summer\"\n",
    "    elif m == 6:\n",
    "        return \"winter\"\n",
    "    else:\n",
    "        return np.nan\n",
    "\n",
    "d2['season'] = d2['real_month'].apply(month_to_season)\n",
    "\n",
    "# see season counts\n",
    "print(d2['season'].value_counts())\n"
   ]
  },
  {
   "cell_type": "code",
   "execution_count": 28,
   "id": "53a0f238",
   "metadata": {},
   "outputs": [
    {
     "name": "stdout",
     "output_type": "stream",
     "text": [
      "season\n",
      "summer    880\n",
      "winter     12\n",
      "Name: count, dtype: int64\n"
     ]
    }
   ],
   "source": [
    "# keep only summer and winter rows\n",
    "d2_season = d2[d2['season'].isin(['summer', 'winter'])].copy()\n",
    "print(d2_season['season'].value_counts())\n"
   ]
  },
  {
   "cell_type": "code",
   "execution_count": 29,
   "id": "e0edd422",
   "metadata": {},
   "outputs": [
    {
     "name": "stdout",
     "output_type": "stream",
     "text": [
      "        rat_arrival_number  rat_minutes  food_availability\n",
      "season                                                    \n",
      "summer            0.238636      0.46875           2.342955\n",
      "winter            0.000000      0.00000           1.445554\n"
     ]
    }
   ],
   "source": [
    "# columns to compare\n",
    "cols = ['rat_arrival_number', 'rat_minutes', 'food_availability']\n",
    "\n",
    "# average values by season\n",
    "print(d2_season.groupby('season')[cols].mean())\n"
   ]
  },
  {
   "cell_type": "code",
   "execution_count": 30,
   "id": "4b55aad3",
   "metadata": {},
   "outputs": [
    {
     "data": {
      "image/png": "[encoded data removed]",
      "text/plain": [
       "<Figure size 640x480 with 1 Axes>"
      ]
     },
     "metadata": {},
     "output_type": "display_data"
    },
    {
     "data": {
      "image/png": "[encoded data removed]",
      "text/plain": [
       "<Figure size 640x480 with 1 Axes>"
      ]
     },
     "metadata": {},
     "output_type": "display_data"
    },
    {
     "data": {
      "image/png": "[encoded data removed]",
      "text/plain": [
       "<Figure size 640x480 with 1 Axes>"
      ]
     },
     "metadata": {},
     "output_type": "display_data"
    }
   ],
   "source": [
    "import seaborn as sns\n",
    "\n",
    "for col in cols:\n",
    "    sns.boxplot(x='season', y=col, data=d2_season)\n",
    "    plt.title(f\"{col} in summer vs winter\")\n",
    "    plt.show()\n"
   ]
  },
  {
   "cell_type": "code",
   "execution_count": 31,
   "id": "8bf7bf7a",
   "metadata": {},
   "outputs": [
    {
     "name": "stdout",
     "output_type": "stream",
     "text": [
      "Mann-Whitney U test for rat_arrival_number\n",
      "stat = 6054.0\n",
      "p-value = 0.15298347889796546\n"
     ]
    }
   ],
   "source": [
    "# Getting Values For Summer\n",
    "summer = d2_season[d2_season['season'] == 'summer']['rat_arrival_number'].dropna()\n",
    "\n",
    "# Getting Values For Winter\n",
    "winter = d2_season[d2_season['season'] == 'winter']['rat_arrival_number'].dropna()\n",
    "\n",
    "# Mann-Whitney test\n",
    "stat, p = stats.mannwhitneyu(summer, winter, alternative='two-sided')\n",
    "\n",
    "print(\"Mann-Whitney U test for rat_arrival_number\")\n",
    "print(\"stat =\", stat)\n",
    "print(\"p-value =\", p)\n"
   ]
  },
  {
   "cell_type": "code",
   "execution_count": 33,
   "id": "eaf4b513",
   "metadata": {},
   "outputs": [
    {
     "name": "stdout",
     "output_type": "stream",
     "text": [
      "\n",
      "Mann-Whitney U test for rat_arrival_number\n",
      "stat = 6054.0\n",
      "p-value = 0.15298347889796546\n",
      "\n",
      "Mann-Whitney U test for rat_minutes\n",
      "stat = 6054.0\n",
      "p-value = 0.15371847001849842\n",
      "\n",
      "Mann-Whitney U test for food_availability\n",
      "stat = 7496.0\n",
      "p-value = 0.011860990637183311\n"
     ]
    }
   ],
   "source": [
    "# list of variables to test\n",
    "cols = ['rat_arrival_number', 'rat_minutes', 'food_availability']\n",
    "\n",
    "for col in cols:\n",
    "    # get summer values\n",
    "    summer = d2_season[d2_season['season'] == 'summer'][col].dropna()\n",
    "    # get winter values\n",
    "    winter = d2_season[d2_season['season'] == 'winter'][col].dropna()\n",
    "\n",
    "    # run Mann-Whitney test\n",
    "    stat, p = stats.mannwhitneyu(summer, winter, alternative='two-sided')\n",
    "    \n",
    "    print(f\"\\nMann-Whitney U test for {col}\")\n",
    "    print(\"stat =\", stat)\n",
    "    print(\"p-value =\", p)\n"
   ]
  },
  {
   "cell_type": "markdown",
   "id": "89284c30",
   "metadata": {},
   "source": [
    "Rat behaviour did not significantly change between seasons, but food availability was much lower in winter, which may influence behaviour."
   ]
  },
  {
   "cell_type": "markdown",
   "id": "98f856bc",
   "metadata": {},
   "source": [
    "Conclusion:\n",
    "I extracted the month from the original rat dataset and created a season column. The data only included summer and winter, so I compared these two seasons.\n",
    "\n",
    "Rats showed higher arrival numbers, more time spent, and more food availability in summer. I used the Mann-Whitney U test because the data was not normally distributed and sample sizes were different."
   ]
  }
 ],
 "metadata": {
  "kernelspec": {
   "display_name": "base",
   "language": "python",
   "name": "python3"
  },
  "language_info": {
   "codemirror_mode": {
    "name": "ipython",
    "version": 3
   },
   "file_extension": ".py",
   "mimetype": "text/x-python",
   "name": "python",
   "nbconvert_exporter": "python",
   "pygments_lexer": "ipython3",
   "version": "3.11.7"
  }
 },
 "nbformat": 4,
 "nbformat_minor": 5
}
