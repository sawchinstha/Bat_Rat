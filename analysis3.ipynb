{
 "cells": [
  {
   "cell_type": "code",
   "execution_count": 1,
   "id": "21e839e4",
   "metadata": {},
   "outputs": [
    {
     "data": {
      "text/plain": [
       "(         start_time  bat_landing_to_food habit  rat_period_start  \\\n",
       " 0  30/12/2017 18:37            16.000000   rat  30/12/2017 18:35   \n",
       " 1  30/12/2017 19:51             0.074016  fast  30/12/2017 19:50   \n",
       " 2  30/12/2017 19:51             4.000000  fast  30/12/2017 19:50   \n",
       " 3  30/12/2017 19:52            10.000000   rat  30/12/2017 19:50   \n",
       " 4  30/12/2017 19:54            15.000000   rat  30/12/2017 19:50   \n",
       " \n",
       "      rat_period_end  seconds_after_rat_arrival  risk  reward  month  \\\n",
       " 0  30/12/2017 18:38                        108     1       0      0   \n",
       " 1  30/12/2017 19:55                         17     0       1      0   \n",
       " 2  30/12/2017 19:55                         41     0       1      0   \n",
       " 3  30/12/2017 19:55                        111     1       0      0   \n",
       " 4  30/12/2017 19:55                        194     1       0      0   \n",
       " \n",
       "         sunset_time  hours_after_sunset  season  \n",
       " 0  30/12/2017 16:45            1.870833       0  \n",
       " 1  30/12/2017 16:45            3.100833       0  \n",
       " 2  30/12/2017 16:45            3.107500       0  \n",
       " 3  30/12/2017 16:45            3.126944       0  \n",
       " 4  30/12/2017 16:45            3.150000       0  ,\n",
       "                time  month  hours_after_sunset  bat_landing_number  \\\n",
       " 0  26/12/2017 16:13      0                -0.5                  20   \n",
       " 1  26/12/2017 16:43      0                 0.0                  28   \n",
       " 2  26/12/2017 17:13      0                 0.5                  25   \n",
       " 3  26/12/2017 17:43      0                 1.0                  71   \n",
       " 4  26/12/2017 18:13      0                 1.5                  44   \n",
       " \n",
       "    food_availability  rat_minutes  rat_arrival_number  \n",
       " 0           4.000000          0.0                   0  \n",
       " 1           4.000000          0.0                   0  \n",
       " 2           4.000000          0.0                   0  \n",
       " 3           4.000000          0.0                   0  \n",
       " 4           3.753857          0.0                   0  )"
      ]
     },
     "execution_count": 1,
     "metadata": {},
     "output_type": "execute_result"
    }
   ],
   "source": [
    "import pandas as pd\n",
    "import numpy as np\n",
    "\n",
    "# Load original datasets\n",
    "d1 = pd.read_csv(\"dataset1.csv\")\n",
    "d2 = pd.read_csv(\"dataset2.csv\")\n",
    "\n",
    "# Preview first few rows\n",
    "d1.head(), d2.head()\n"
   ]
  },
  {
   "cell_type": "code",
   "execution_count": 2,
   "id": "fd837ef1",
   "metadata": {},
   "outputs": [
    {
     "name": "stdout",
     "output_type": "stream",
     "text": [
      "Dataset1 Info:\n",
      "<class 'pandas.core.frame.DataFrame'>\n",
      "RangeIndex: 907 entries, 0 to 906\n",
      "Data columns (total 12 columns):\n",
      " #   Column                     Non-Null Count  Dtype  \n",
      "---  ------                     --------------  -----  \n",
      " 0   start_time                 907 non-null    object \n",
      " 1   bat_landing_to_food        907 non-null    float64\n",
      " 2   habit                      866 non-null    object \n",
      " 3   rat_period_start           907 non-null    object \n",
      " 4   rat_period_end             907 non-null    object \n",
      " 5   seconds_after_rat_arrival  907 non-null    int64  \n",
      " 6   risk                       907 non-null    int64  \n",
      " 7   reward                     907 non-null    int64  \n",
      " 8   month                      907 non-null    int64  \n",
      " 9   sunset_time                907 non-null    object \n",
      " 10  hours_after_sunset         907 non-null    float64\n",
      " 11  season                     907 non-null    int64  \n",
      "dtypes: float64(2), int64(5), object(5)\n",
      "memory usage: 85.2+ KB\n",
      "None\n",
      "\n",
      "Dataset1 Missing values:\n",
      "start_time                    0\n",
      "bat_landing_to_food           0\n",
      "habit                        41\n",
      "rat_period_start              0\n",
      "rat_period_end                0\n",
      "seconds_after_rat_arrival     0\n",
      "risk                          0\n",
      "reward                        0\n",
      "month                         0\n",
      "sunset_time                   0\n",
      "hours_after_sunset            0\n",
      "season                        0\n",
      "dtype: int64\n",
      "\n",
      "Dataset2 Info:\n",
      "<class 'pandas.core.frame.DataFrame'>\n",
      "RangeIndex: 2123 entries, 0 to 2122\n",
      "Data columns (total 7 columns):\n",
      " #   Column              Non-Null Count  Dtype  \n",
      "---  ------              --------------  -----  \n",
      " 0   time                2123 non-null   object \n",
      " 1   month               2123 non-null   int64  \n",
      " 2   hours_after_sunset  2123 non-null   float64\n",
      " 3   bat_landing_number  2123 non-null   int64  \n",
      " 4   food_availability   2123 non-null   float64\n",
      " 5   rat_minutes         2123 non-null   float64\n",
      " 6   rat_arrival_number  2123 non-null   int64  \n",
      "dtypes: float64(3), int64(3), object(1)\n",
      "memory usage: 116.2+ KB\n",
      "None\n",
      "\n",
      "Dataset2 Missing values:\n",
      "time                  0\n",
      "month                 0\n",
      "hours_after_sunset    0\n",
      "bat_landing_number    0\n",
      "food_availability     0\n",
      "rat_minutes           0\n",
      "rat_arrival_number    0\n",
      "dtype: int64\n",
      "\n",
      "Duplicates in Dataset1: 1\n",
      "Duplicates in Dataset2: 0\n"
     ]
    }
   ],
   "source": [
    "# Check structure of both datasets\n",
    "print(\"Dataset1 Info:\")\n",
    "print(d1.info())\n",
    "print(\"\\nDataset1 Missing values:\")\n",
    "print(d1.isnull().sum())\n",
    "\n",
    "print(\"\\nDataset2 Info:\")\n",
    "print(d2.info())\n",
    "print(\"\\nDataset2 Missing values:\")\n",
    "print(d2.isnull().sum())\n",
    "\n",
    "# Check duplicates\n",
    "print(\"\\nDuplicates in Dataset1:\", d1.duplicated().sum())\n",
    "print(\"Duplicates in Dataset2:\", d2.duplicated().sum())\n"
   ]
  },
  {
   "cell_type": "code",
   "execution_count": 3,
   "id": "330482ef",
   "metadata": {},
   "outputs": [],
   "source": [
    "d1 = d1.drop_duplicates()\n"
   ]
  },
  {
   "cell_type": "code",
   "execution_count": 4,
   "id": "f952614e",
   "metadata": {},
   "outputs": [
    {
     "name": "stderr",
     "output_type": "stream",
     "text": [
      "C:\\Users\\Dell\\AppData\\Local\\Temp\\ipykernel_9948\\1833382139.py:1: UserWarning: Parsing dates in %d/%m/%Y %H:%M format when dayfirst=False (the default) was specified. Pass `dayfirst=True` or specify a format to silence this warning.\n",
      "  d1['start_time'] = pd.to_datetime(d1['start_time'], errors='coerce')\n",
      "C:\\Users\\Dell\\AppData\\Local\\Temp\\ipykernel_9948\\1833382139.py:2: UserWarning: Parsing dates in %d/%m/%Y %H:%M format when dayfirst=False (the default) was specified. Pass `dayfirst=True` or specify a format to silence this warning.\n",
      "  d1['rat_period_start'] = pd.to_datetime(d1['rat_period_start'], errors='coerce')\n",
      "C:\\Users\\Dell\\AppData\\Local\\Temp\\ipykernel_9948\\1833382139.py:3: UserWarning: Parsing dates in %d/%m/%Y %H:%M format when dayfirst=False (the default) was specified. Pass `dayfirst=True` or specify a format to silence this warning.\n",
      "  d1['rat_period_end'] = pd.to_datetime(d1['rat_period_end'], errors='coerce')\n",
      "C:\\Users\\Dell\\AppData\\Local\\Temp\\ipykernel_9948\\1833382139.py:4: UserWarning: Parsing dates in %d/%m/%Y %H:%M format when dayfirst=False (the default) was specified. Pass `dayfirst=True` or specify a format to silence this warning.\n",
      "  d1['sunset_time'] = pd.to_datetime(d1['sunset_time'], errors='coerce')\n"
     ]
    }
   ],
   "source": [
    "d1['start_time'] = pd.to_datetime(d1['start_time'], errors='coerce')\n",
    "d1['rat_period_start'] = pd.to_datetime(d1['rat_period_start'], errors='coerce')\n",
    "d1['rat_period_end'] = pd.to_datetime(d1['rat_period_end'], errors='coerce')\n",
    "d1['sunset_time'] = pd.to_datetime(d1['sunset_time'], errors='coerce')\n"
   ]
  },
  {
   "cell_type": "code",
   "execution_count": 5,
   "id": "5334cc13",
   "metadata": {},
   "outputs": [
    {
     "data": {
      "text/plain": [
       "start_time          0\n",
       "rat_period_start    0\n",
       "rat_period_end      0\n",
       "sunset_time         0\n",
       "dtype: int64"
      ]
     },
     "execution_count": 5,
     "metadata": {},
     "output_type": "execute_result"
    }
   ],
   "source": [
    "d1[['start_time','rat_period_start','rat_period_end','sunset_time']].isnull().sum()\n"
   ]
  },
  {
   "cell_type": "code",
   "execution_count": 6,
   "id": "cb4e477b",
   "metadata": {},
   "outputs": [],
   "source": [
    "d1['habit'] = d1['habit'].fillna('unknown')\n"
   ]
  },
  {
   "cell_type": "code",
   "execution_count": 7,
   "id": "88ae22d8",
   "metadata": {},
   "outputs": [
    {
     "name": "stdout",
     "output_type": "stream",
     "text": [
      "[12  1  2  3  4  5]\n"
     ]
    }
   ],
   "source": [
    "d1['real_month'] = d1['start_time'].dt.month\n",
    "print(d1['real_month'].unique())\n",
    "\n"
   ]
  },
  {
   "cell_type": "code",
   "execution_count": 8,
   "id": "0486fc1c",
   "metadata": {},
   "outputs": [],
   "source": [
    "def get_season(m):\n",
    "    if m in [12,1,2]:\n",
    "        return 'Summer'\n",
    "    elif m in [3,4,5]:\n",
    "        return 'Autumn'\n",
    "    elif m in [6,7,8]:\n",
    "        return 'Winter'\n",
    "    elif m in [9,10,11]:\n",
    "        return 'Spring'\n",
    "    else:\n",
    "        return None\n",
    "\n",
    "d1['season'] = d1['real_month'].apply(get_season)\n"
   ]
  },
  {
   "cell_type": "code",
   "execution_count": 9,
   "id": "072a1966",
   "metadata": {},
   "outputs": [
    {
     "name": "stdout",
     "output_type": "stream",
     "text": [
      "season\n",
      "Autumn    755\n",
      "Summer    151\n",
      "Name: count, dtype: int64\n"
     ]
    }
   ],
   "source": [
    "print(d1['season'].value_counts())\n"
   ]
  },
  {
   "cell_type": "code",
   "execution_count": 10,
   "id": "22981b8c",
   "metadata": {},
   "outputs": [],
   "source": [
    "d1 = d1.drop_duplicates()\n"
   ]
  },
  {
   "cell_type": "code",
   "execution_count": 11,
   "id": "ada326ad",
   "metadata": {},
   "outputs": [],
   "source": [
    "d1['start_time'] = pd.to_datetime(d1['start_time'], errors='coerce')\n",
    "d1['rat_period_start'] = pd.to_datetime(d1['rat_period_start'], errors='coerce')\n",
    "d1['rat_period_end'] = pd.to_datetime(d1['rat_period_end'], errors='coerce')\n",
    "d1['sunset_time'] = pd.to_datetime(d1['sunset_time'], errors='coerce')\n"
   ]
  },
  {
   "cell_type": "code",
   "execution_count": 12,
   "id": "665ef29c",
   "metadata": {},
   "outputs": [
    {
     "data": {
      "text/plain": [
       "start_time          0\n",
       "rat_period_start    0\n",
       "rat_period_end      0\n",
       "sunset_time         0\n",
       "dtype: int64"
      ]
     },
     "execution_count": 12,
     "metadata": {},
     "output_type": "execute_result"
    }
   ],
   "source": [
    "d1[['start_time','rat_period_start','rat_period_end','sunset_time']].isnull().sum()\n"
   ]
  },
  {
   "cell_type": "code",
   "execution_count": 13,
   "id": "be0395db",
   "metadata": {},
   "outputs": [],
   "source": [
    "mode_val = d1['habit'].mode()[0]\n",
    "d1['habit'] = d1['habit'].fillna(mode_val)\n"
   ]
  },
  {
   "cell_type": "code",
   "execution_count": 14,
   "id": "648ab720",
   "metadata": {},
   "outputs": [
    {
     "name": "stdout",
     "output_type": "stream",
     "text": [
      "habit\n",
      "fast                                              245\n",
      "rat                                               221\n",
      "pick                                              139\n",
      "unknown                                            41\n",
      "bat                                                30\n",
      "                                                 ... \n",
      "eating_and_bat_and_pick                             1\n",
      "bat_figiht                                          1\n",
      "415.0,86.5,559.2,140.2; 66.0,157.0,285.0,279.0      1\n",
      "rat_pick_and_bat                                    1\n",
      "rat_and_bat_and_pick                                1\n",
      "Name: count, Length: 82, dtype: int64\n"
     ]
    }
   ],
   "source": [
    "d1['habit'] = d1['habit'].str.lower().str.strip()\n",
    "print(d1['habit'].value_counts())\n"
   ]
  },
  {
   "cell_type": "code",
   "execution_count": 15,
   "id": "2d6db72f",
   "metadata": {},
   "outputs": [
    {
     "name": "stdout",
     "output_type": "stream",
     "text": [
      "[12  1  2  3  4  5]\n"
     ]
    }
   ],
   "source": [
    "d1['real_month'] = d1['start_time'].dt.month\n",
    "print(d1['real_month'].unique())\n"
   ]
  },
  {
   "cell_type": "code",
   "execution_count": 16,
   "id": "150ea68b",
   "metadata": {},
   "outputs": [
    {
     "name": "stdout",
     "output_type": "stream",
     "text": [
      "season\n",
      "Autumn    755\n",
      "Summer    151\n",
      "Name: count, dtype: int64\n"
     ]
    }
   ],
   "source": [
    "def get_season(m):\n",
    "    if m in [12,1,2]:\n",
    "        return 'Summer'\n",
    "    elif m in [3,4,5]:\n",
    "        return 'Autumn'\n",
    "    elif m in [6,7,8]:\n",
    "        return 'Winter'\n",
    "    elif m in [9,10,11]:\n",
    "        return 'Spring'\n",
    "    else:\n",
    "        return None\n",
    "\n",
    "d1['season'] = d1['real_month'].apply(get_season)\n",
    "print(d1['season'].value_counts())\n"
   ]
  },
  {
   "cell_type": "code",
   "execution_count": 17,
   "id": "94741202",
   "metadata": {},
   "outputs": [],
   "source": [
    "d1['seconds_after_rat_arrival'] = pd.to_numeric(d1['seconds_after_rat_arrival'], errors='coerce')\n",
    "d1['hours_after_sunset'] = pd.to_numeric(d1['hours_after_sunset'], errors='coerce')\n"
   ]
  },
  {
   "cell_type": "code",
   "execution_count": 18,
   "id": "f9f780df",
   "metadata": {},
   "outputs": [],
   "source": [
    "d1.to_csv(\"cleaned_dataset1_final.csv\", index=False)\n"
   ]
  },
  {
   "cell_type": "code",
   "execution_count": 3,
   "id": "f04ed9ee",
   "metadata": {},
   "outputs": [],
   "source": [
    "import pandas as pd\n",
    "import numpy as np\n"
   ]
  },
  {
   "cell_type": "code",
   "execution_count": 4,
   "id": "fe14fe29",
   "metadata": {},
   "outputs": [
    {
     "data": {
      "text/html": [
       "<div>\n",
       "<style scoped>\n",
       "    .dataframe tbody tr th:only-of-type {\n",
       "        vertical-align: middle;\n",
       "    }\n",
       "\n",
       "    .dataframe tbody tr th {\n",
       "        vertical-align: top;\n",
       "    }\n",
       "\n",
       "    .dataframe thead th {\n",
       "        text-align: right;\n",
       "    }\n",
       "</style>\n",
       "<table border=\"1\" class=\"dataframe\">\n",
       "  <thead>\n",
       "    <tr style=\"text-align: right;\">\n",
       "      <th></th>\n",
       "      <th>time</th>\n",
       "      <th>month</th>\n",
       "      <th>hours_after_sunset</th>\n",
       "      <th>bat_landing_number</th>\n",
       "      <th>food_availability</th>\n",
       "      <th>rat_minutes</th>\n",
       "      <th>rat_arrival_number</th>\n",
       "    </tr>\n",
       "  </thead>\n",
       "  <tbody>\n",
       "    <tr>\n",
       "      <th>0</th>\n",
       "      <td>26/12/2017 16:13</td>\n",
       "      <td>0</td>\n",
       "      <td>-0.5</td>\n",
       "      <td>20</td>\n",
       "      <td>4.000000</td>\n",
       "      <td>0.0</td>\n",
       "      <td>0</td>\n",
       "    </tr>\n",
       "    <tr>\n",
       "      <th>1</th>\n",
       "      <td>26/12/2017 16:43</td>\n",
       "      <td>0</td>\n",
       "      <td>0.0</td>\n",
       "      <td>28</td>\n",
       "      <td>4.000000</td>\n",
       "      <td>0.0</td>\n",
       "      <td>0</td>\n",
       "    </tr>\n",
       "    <tr>\n",
       "      <th>2</th>\n",
       "      <td>26/12/2017 17:13</td>\n",
       "      <td>0</td>\n",
       "      <td>0.5</td>\n",
       "      <td>25</td>\n",
       "      <td>4.000000</td>\n",
       "      <td>0.0</td>\n",
       "      <td>0</td>\n",
       "    </tr>\n",
       "    <tr>\n",
       "      <th>3</th>\n",
       "      <td>26/12/2017 17:43</td>\n",
       "      <td>0</td>\n",
       "      <td>1.0</td>\n",
       "      <td>71</td>\n",
       "      <td>4.000000</td>\n",
       "      <td>0.0</td>\n",
       "      <td>0</td>\n",
       "    </tr>\n",
       "    <tr>\n",
       "      <th>4</th>\n",
       "      <td>26/12/2017 18:13</td>\n",
       "      <td>0</td>\n",
       "      <td>1.5</td>\n",
       "      <td>44</td>\n",
       "      <td>3.753857</td>\n",
       "      <td>0.0</td>\n",
       "      <td>0</td>\n",
       "    </tr>\n",
       "  </tbody>\n",
       "</table>\n",
       "</div>"
      ],
      "text/plain": [
       "               time  month  hours_after_sunset  bat_landing_number  \\\n",
       "0  26/12/2017 16:13      0                -0.5                  20   \n",
       "1  26/12/2017 16:43      0                 0.0                  28   \n",
       "2  26/12/2017 17:13      0                 0.5                  25   \n",
       "3  26/12/2017 17:43      0                 1.0                  71   \n",
       "4  26/12/2017 18:13      0                 1.5                  44   \n",
       "\n",
       "   food_availability  rat_minutes  rat_arrival_number  \n",
       "0           4.000000          0.0                   0  \n",
       "1           4.000000          0.0                   0  \n",
       "2           4.000000          0.0                   0  \n",
       "3           4.000000          0.0                   0  \n",
       "4           3.753857          0.0                   0  "
      ]
     },
     "execution_count": 4,
     "metadata": {},
     "output_type": "execute_result"
    }
   ],
   "source": [
    "# Load original dataset2\n",
    "d2 = pd.read_csv(\"dataset2.csv\")\n",
    "d2.head()\n"
   ]
  },
  {
   "cell_type": "code",
   "execution_count": 5,
   "id": "85ec69b7",
   "metadata": {},
   "outputs": [
    {
     "name": "stdout",
     "output_type": "stream",
     "text": [
      "<class 'pandas.core.frame.DataFrame'>\n",
      "RangeIndex: 2123 entries, 0 to 2122\n",
      "Data columns (total 7 columns):\n",
      " #   Column              Non-Null Count  Dtype  \n",
      "---  ------              --------------  -----  \n",
      " 0   time                2123 non-null   object \n",
      " 1   month               2123 non-null   int64  \n",
      " 2   hours_after_sunset  2123 non-null   float64\n",
      " 3   bat_landing_number  2123 non-null   int64  \n",
      " 4   food_availability   2123 non-null   float64\n",
      " 5   rat_minutes         2123 non-null   float64\n",
      " 6   rat_arrival_number  2123 non-null   int64  \n",
      "dtypes: float64(3), int64(3), object(1)\n",
      "memory usage: 116.2+ KB\n",
      "None\n",
      "\n",
      "Missing values:\n",
      " time                  0\n",
      "month                 0\n",
      "hours_after_sunset    0\n",
      "bat_landing_number    0\n",
      "food_availability     0\n",
      "rat_minutes           0\n",
      "rat_arrival_number    0\n",
      "dtype: int64\n"
     ]
    }
   ],
   "source": [
    "print(d2.info())\n",
    "print(\"\\nMissing values:\\n\", d2.isnull().sum())\n"
   ]
  },
  {
   "cell_type": "code",
   "execution_count": 6,
   "id": "9733371b",
   "metadata": {},
   "outputs": [
    {
     "name": "stderr",
     "output_type": "stream",
     "text": [
      "C:\\Users\\Dell\\AppData\\Local\\Temp\\ipykernel_5312\\4259243500.py:1: UserWarning: Parsing dates in %d/%m/%Y %H:%M format when dayfirst=False (the default) was specified. Pass `dayfirst=True` or specify a format to silence this warning.\n",
      "  d2['time'] = pd.to_datetime(d2['time'], errors='coerce')\n"
     ]
    }
   ],
   "source": [
    "d2['time'] = pd.to_datetime(d2['time'], errors='coerce')\n"
   ]
  },
  {
   "cell_type": "code",
   "execution_count": 7,
   "id": "b444b2d3",
   "metadata": {},
   "outputs": [
    {
     "data": {
      "text/plain": [
       "0   2017-12-26 16:13:00\n",
       "1   2017-12-26 16:43:00\n",
       "2   2017-12-26 17:13:00\n",
       "3   2017-12-26 17:43:00\n",
       "4   2017-12-26 18:13:00\n",
       "Name: time, dtype: datetime64[ns]"
      ]
     },
     "execution_count": 7,
     "metadata": {},
     "output_type": "execute_result"
    }
   ],
   "source": [
    "d2['time'].head()\n"
   ]
  },
  {
   "cell_type": "code",
   "execution_count": 8,
   "id": "6853666e",
   "metadata": {},
   "outputs": [
    {
     "name": "stdout",
     "output_type": "stream",
     "text": [
      "[12  1  2  3  4  5  6]\n"
     ]
    }
   ],
   "source": [
    "d2['real_month'] = d2['time'].dt.month\n",
    "print(d2['real_month'].unique())\n"
   ]
  },
  {
   "cell_type": "code",
   "execution_count": 9,
   "id": "bc0de406",
   "metadata": {},
   "outputs": [
    {
     "name": "stdout",
     "output_type": "stream",
     "text": [
      "season\n",
      "Autumn    1231\n",
      "Summer     880\n",
      "Winter      12\n",
      "Name: count, dtype: int64\n"
     ]
    }
   ],
   "source": [
    "def get_season(m):\n",
    "    if m in [12, 1, 2]:\n",
    "        return 'Summer'\n",
    "    elif m in [3, 4, 5]:\n",
    "        return 'Autumn'\n",
    "    elif m in [6, 7, 8]:\n",
    "        return 'Winter'\n",
    "    elif m in [9, 10, 11]:\n",
    "        return 'Spring'\n",
    "    else:\n",
    "        return None\n",
    "\n",
    "d2['season'] = d2['real_month'].apply(get_season)\n",
    "print(d2['season'].value_counts())\n"
   ]
  },
  {
   "cell_type": "code",
   "execution_count": 10,
   "id": "b5e07071",
   "metadata": {},
   "outputs": [
    {
     "name": "stdout",
     "output_type": "stream",
     "text": [
      "time                  datetime64[ns]\n",
      "month                          int64\n",
      "hours_after_sunset           float64\n",
      "bat_landing_number             int64\n",
      "food_availability            float64\n",
      "rat_minutes                  float64\n",
      "rat_arrival_number             int64\n",
      "real_month                     int32\n",
      "season                        object\n",
      "dtype: object\n"
     ]
    }
   ],
   "source": [
    "print(d2.dtypes)\n"
   ]
  },
  {
   "cell_type": "code",
   "execution_count": 11,
   "id": "27d6e127",
   "metadata": {},
   "outputs": [],
   "source": [
    "d2['bat_landing_number'] = pd.to_numeric(d2['bat_landing_number'], errors='coerce')\n",
    "d2['food_availability'] = pd.to_numeric(d2['food_availability'], errors='coerce')\n",
    "d2['rat_minutes'] = pd.to_numeric(d2['rat_minutes'], errors='coerce')\n",
    "d2['rat_arrival_number'] = pd.to_numeric(d2['rat_arrival_number'], errors='coerce')\n"
   ]
  },
  {
   "cell_type": "code",
   "execution_count": 13,
   "id": "9c5c17dd",
   "metadata": {},
   "outputs": [],
   "source": [
    "# Drop rows where season is missing (none in your case)\n",
    "d2 = d2.dropna(subset=['season'])\n",
    "\n",
    "# Replace other NaN values with 0 (simple safe approach)\n",
    "d2 = d2.fillna(0)\n"
   ]
  },
  {
   "cell_type": "code",
   "execution_count": 14,
   "id": "4be75680",
   "metadata": {},
   "outputs": [],
   "source": [
    "d2.to_csv(\"cleaned_dataset2_final.csv\", index=False)\n"
   ]
  },
  {
   "cell_type": "code",
   "execution_count": null,
   "id": "a15574fc",
   "metadata": {},
   "outputs": [],
   "source": [
    "# ========== INVESTIGATION B (Seasonal Analysis) =========="
   ]
  },
  {
   "cell_type": "code",
   "execution_count": null,
   "id": "d0e77eb8",
   "metadata": {},
   "outputs": [],
   "source": [
    "#PART1: Bat behaviour across seasons"
   ]
  },
  {
   "cell_type": "code",
   "execution_count": 15,
   "id": "2d248b53",
   "metadata": {},
   "outputs": [],
   "source": [
    "import pandas as pd\n",
    "import numpy as np\n",
    "import matplotlib.pyplot as plt\n",
    "from scipy import stats\n",
    "\n",
    "# Load cleaned data\n",
    "d1 = pd.read_csv(\"cleaned_dataset1_final.csv\")\n",
    "d2 = pd.read_csv(\"cleaned_dataset2_final.csv\")\n"
   ]
  },
  {
   "cell_type": "code",
   "execution_count": 16,
   "id": "47ee50ea",
   "metadata": {},
   "outputs": [
    {
     "name": "stdout",
     "output_type": "stream",
     "text": [
      "Count of data in each season:\n",
      "season\n",
      "Autumn    755\n",
      "Summer    151\n",
      "Name: count, dtype: int64\n"
     ]
    }
   ],
   "source": [
    "# Records in each season\n",
    "print(\"Count of data in each season:\")\n",
    "print(d1['season'].value_counts())"
   ]
  },
  {
   "cell_type": "code",
   "execution_count": 17,
   "id": "c4c3fa46",
   "metadata": {},
   "outputs": [
    {
     "name": "stdout",
     "output_type": "stream",
     "text": [
      "\n",
      "Average bat_landing_to_food time by season:\n",
      "season\n",
      "Autumn    12.856728\n",
      "Summer     6.039623\n",
      "Name: bat_landing_to_food, dtype: float64\n"
     ]
    }
   ],
   "source": [
    "# Time taken to land on food (bat_landing_to_food)\n",
    "print(\"\\nAverage bat_landing_to_food time by season:\")\n",
    "print(d1.groupby('season')['bat_landing_to_food'].mean())"
   ]
  },
  {
   "cell_type": "code",
   "execution_count": 18,
   "id": "36b98266",
   "metadata": {},
   "outputs": [
    {
     "name": "stdout",
     "output_type": "stream",
     "text": [
      "\n",
      "Average hours_after_sunset by season:\n",
      "season\n",
      "Autumn    5.526951\n",
      "Summer    5.560723\n",
      "Name: hours_after_sunset, dtype: float64\n"
     ]
    }
   ],
   "source": [
    "# Time of activity after sunset (hours_after_sunset)\n",
    "print(\"\\nAverage hours_after_sunset by season:\")\n",
    "print(d1.groupby('season')['hours_after_sunset'].mean())"
   ]
  },
  {
   "cell_type": "code",
   "execution_count": 19,
   "id": "9c9d24e3",
   "metadata": {},
   "outputs": [
    {
     "data": {
      "image/png": "[encoded data removed]",
      "text/plain": [
       "<Figure size 640x480 with 1 Axes>"
      ]
     },
     "metadata": {},
     "output_type": "display_data"
    }
   ],
   "source": [
    "# bat_landing_to_food distribution by season\n",
    "d1.boxplot(column='bat_landing_to_food', by='season')\n",
    "plt.title(\"Bat landing to food time by season\")\n",
    "plt.suptitle(\"\")  # remove automatic title\n",
    "plt.xlabel(\"Season\")\n",
    "plt.ylabel(\"Time to land on food\")\n",
    "plt.show()"
   ]
  },
  {
   "cell_type": "code",
   "execution_count": 20,
   "id": "916a079e",
   "metadata": {},
   "outputs": [
    {
     "data": {
      "image/png": "[encoded data removed]",
      "text/plain": [
       "<Figure size 640x480 with 1 Axes>"
      ]
     },
     "metadata": {},
     "output_type": "display_data"
    }
   ],
   "source": [
    "# hours_after_sunset distribution by season\n",
    "d1.boxplot(column='hours_after_sunset', by='season')\n",
    "plt.title(\"Bat activity time after sunset by season\")\n",
    "plt.suptitle(\"\")\n",
    "plt.xlabel(\"Season\")\n",
    "plt.ylabel(\"Hours after sunset\")\n",
    "plt.show()"
   ]
  },
  {
   "cell_type": "code",
   "execution_count": 24,
   "id": "134544be",
   "metadata": {},
   "outputs": [
    {
     "name": "stdout",
     "output_type": "stream",
     "text": [
      "Mann-Whitney U test for bat activity time (Summer vs Autumn)\n"
     ]
    }
   ],
   "source": [
    "# Statistical Test (Summer vs Autumn)\n",
    "#Mann-Whitney U test\n",
    "print(\"Mann-Whitney U test for bat activity time (Summer vs Autumn)\")\n"
   ]
  },
  {
   "cell_type": "code",
   "execution_count": 25,
   "id": "671d3c69",
   "metadata": {},
   "outputs": [
    {
     "name": "stdout",
     "output_type": "stream",
     "text": [
      "Mann-Whitney U test (Summer vs Autumn)\n",
      "Statistic: 55443.5\n",
      "P-value: 0.5954718708973181\n"
     ]
    }
   ],
   "source": [
    "# Compare bat activity time after sunset in Summer vs Autumn\n",
    "\n",
    "# summer values\n",
    "summer = d1[d1['season'] == 'Summer']['hours_after_sunset'].dropna()\n",
    "\n",
    "# autumn values\n",
    "autumn = d1[d1['season'] == 'Autumn']['hours_after_sunset'].dropna()\n",
    "\n",
    "# Mann-Whitney U test\n",
    "from scipy import stats\n",
    "stat, p = stats.mannwhitneyu(summer, autumn, alternative='two-sided')\n",
    "\n",
    "print(\"Mann-Whitney U test (Summer vs Autumn)\")\n",
    "print(\"Statistic:\", stat)\n",
    "print(\"P-value:\", p)"
   ]
  },
  {
   "cell_type": "markdown",
   "id": "89b14f24",
   "metadata": {},
   "source": [
    "Conclusion:\n",
    "p-value = 0.59 which is greater than 0.05.There is no significant difference in bat activity time after sunset between Summer and Autumn. So, season does not strongly change the bat activity time.\n"
   ]
  }
 ],
 "metadata": {
  "kernelspec": {
   "display_name": "base",
   "language": "python",
   "name": "python3"
  },
  "language_info": {
   "codemirror_mode": {
    "name": "ipython",
    "version": 3
   },
   "file_extension": ".py",
   "mimetype": "text/x-python",
   "name": "python",
   "nbconvert_exporter": "python",
   "pygments_lexer": "ipython3",
   "version": "3.11.7"
  }
 },
 "nbformat": 4,
 "nbformat_minor": 5
}
